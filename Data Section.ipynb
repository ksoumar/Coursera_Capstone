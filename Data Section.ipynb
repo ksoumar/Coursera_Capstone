{
    "cells": [
        {
            "metadata": {
                "collapsed": true
            },
            "cell_type": "markdown",
            "source": "# Data Discussion\n\n##### Data Sources\nFor this project, I will be leveraging a number of data sources, some from previous labs in this course and some new data sources. THe complete list is as follows:\n\n1. List of Tornoto Neighborhoods and thweir postal codes. \u201cList of Postal code of Canada: M\u201d (https://en.wikipedia.org/wiki/List_of_postal_codes_of_Canada:_M) wiki page to get all the information about the neighborhoods present in Toronto. This page has the postal code, borough & the name of all the neighborhoods present in Toronto.\n\n\n2. Latitude and Longitude data. Also from previus labs: \u201chttps://cocl.us/Geospatial_data\u201d csv file to get all the geographical coordinates of the neighborhoods in Toronto.\n\n\n3. Ethinicity population distribution of Toronto. To get information about the distribution of population by their ethnicity, we'll leverage \u201cDemographics of Toronto\u201d (https://en.m.wikipedia.org/wiki/Demographics_of_Toronto#Ethnic_diversity) wiki page. Using this page I\u2019m going to identify the neighborhoods which are densely populated with Chinese people as it might be helpful in identifying the suitable neighborhood to open a new chinese restaurant.\n\n\n4. Venue and location data. Also from previous labs, to get location and other information about various venues in Toronto I\u2019m using Foursquare\u2019s explore API. Using the Foursquare\u2019s explore API (which gives venues recommendations), I\u2019m fetching details about the venues up present in Toronto and collected their names, categories and locations (latitude and longitude). From Foursquare API (https://developer.foursquare.com/docs), I retrieved the following for each venue:\n\n    - Name: The name of the venue.\n    - Category: The category type as defined by the API.\n    - Latitude: The latitude value of the venue.\n    - Longitude: The longitude value of the venue."
        },
        {
            "metadata": {},
            "cell_type": "code",
            "source": "",
            "execution_count": null,
            "outputs": []
        }
    ],
    "metadata": {
        "kernelspec": {
            "name": "python3",
            "display_name": "Python 3.7",
            "language": "python"
        },
        "language_info": {
            "name": "python",
            "version": "3.7.9",
            "mimetype": "text/x-python",
            "codemirror_mode": {
                "name": "ipython",
                "version": 3
            },
            "pygments_lexer": "ipython3",
            "nbconvert_exporter": "python",
            "file_extension": ".py"
        }
    },
    "nbformat": 4,
    "nbformat_minor": 1
}