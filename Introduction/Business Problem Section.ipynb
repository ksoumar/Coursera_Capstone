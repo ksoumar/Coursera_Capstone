{
    "cells": [
        {
            "metadata": {
                "collapsed": true
            },
            "cell_type": "markdown",
            "source": "As a part of the final IBM Capstone Project, we work on the real dataset to get an exprencies of what a data scientists go through in real life. Objectives of the final assignments were to define a business problem, look for data in the web and, use Foursquare location data to compare different neighborhoods of Toronto to figure out which neighborhood is suitable for starting a new restaurant business. In this project, I go through all the process in a step by step manner from problem designing, data preparation to final analysis and finally will provide a conclusion that can be leveraged by the business stakeholders to make their decisions.\n\n# Introduction/Business Problem Discussion\n##### Prospects of a opening a Chinese Restaurant in Toronto, Canada.\n\nToronto, the capital of the province of Ontario, is the most populous Canadian city. Its diversity is reflected in Toronto\u2019s ethnic neighborhoods such as Chinatown, Corso Italia, Greektown, Kensington Market, Koreatown, Little India, Little Italy, Little Jamaica, Little Portugal & Roncesvalles. One of the most immigrant-friendly cities in North America with a large portion if its Chinese population residing in Toronto, it is one of the best places to start an Chinese restaurant.\n##### Business Problem\nIn this project we will go through step by step process to make a decision whether it is a good idea to open a Chinese restaurant. We analyze the neighborhoods in Toronto to identify the most profitable area since the success of the restaurant depends on the people and ambience. While Chinatown might seem like an obvious choice, we wean to explore potential areas with high Chinese popolautins that do not have a chinese restaurants to capture marketshare.\n##### Target Audience\nThis is a common problem for many restuarant investors and entreperneurs. This analysis will be a comprehensive guide to start or expand restaurants targeting the Chinese population. This may also help\nFreelancers whom love to have their own restaurant as a side business. This analysis will give an idea, how beneficial it is to open a restaurant and what are the pros and cons of this business.\nChinese people who are newly minted Toronto residents may also find this helpful to find new restaurants near them in their neighborhood. Lastly, Business Analysts or Data Scientists, who wish to analyze the neighborhoods of Toronto using Exploratory Data Analysis and other statistical & machine learning techniques to obtain all the necessary data, perform some operations on it and, finally be able to tell a story out of it may find this useful."
        }
    ],
    "metadata": {
        "kernelspec": {
            "name": "python3",
            "display_name": "Python 3.7",
            "language": "python"
        },
        "language_info": {
            "name": "python",
            "version": "3.7.9",
            "mimetype": "text/x-python",
            "codemirror_mode": {
                "name": "ipython",
                "version": 3
            },
            "pygments_lexer": "ipython3",
            "nbconvert_exporter": "python",
            "file_extension": ".py"
        }
    },
    "nbformat": 4,
    "nbformat_minor": 1
}